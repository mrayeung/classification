{
  "nbformat": 4,
  "nbformat_minor": 0,
  "metadata": {
    "colab": {
      "provenance": []
    },
    "kernelspec": {
      "name": "python3",
      "display_name": "Python 3"
    },
    "language_info": {
      "name": "python"
    }
  },
  "cells": [
    {
      "cell_type": "code",
      "source": [
        "import pandas as pd\n",
        "import numpy as np\n",
        "import seaborn as sns\n",
        "import matplotlib.pyplot as plt\n",
        "\n",
        "from sklearn.model_selection import cross_val_score\n",
        "from sklearn.linear_model import LinearRegression, LogisticRegression\n",
        "from sklearn.svm import SVC\n",
        "from sklearn.tree import DecisionTreeClassifier\n",
        "from sklearn.ensemble import RandomForestClassifier\n",
        "from sklearn.neighbors import KNeighborsClassifier\n",
        "from sklearn.model_selection import train_test_split, GridSearchCV, cross_validate\n",
        "from sklearn.pipeline import Pipeline\n",
        "from sklearn.metrics import classification_report\n",
        "from sklearn.metrics import accuracy_score, f1_score, roc_auc_score\n",
        "\n",
        "import warnings\n",
        "warnings.filterwarnings('ignore')"
      ],
      "metadata": {
        "id": "3CEkFlvHwgcm"
      },
      "execution_count": 59,
      "outputs": []
    },
    {
      "cell_type": "code",
      "source": [
        "digits=load_digits()"
      ],
      "metadata": {
        "id": "nuXU1uZWwpGA"
      },
      "execution_count": 44,
      "outputs": []
    },
    {
      "cell_type": "code",
      "source": [
        "print(digits.keys())"
      ],
      "metadata": {
        "colab": {
          "base_uri": "https://localhost:8080/"
        },
        "id": "COgn3OKlzfNm",
        "outputId": "a485c5f5-7766-4fab-e4b6-7094b9c54913"
      },
      "execution_count": 45,
      "outputs": [
        {
          "output_type": "stream",
          "name": "stdout",
          "text": [
            "dict_keys(['data', 'target', 'frame', 'feature_names', 'target_names', 'images', 'DESCR'])\n"
          ]
        }
      ]
    },
    {
      "cell_type": "code",
      "source": [
        "df=pd.DataFrame(digits.data)\n",
        "print(df.head())\n",
        "print(df.shape)"
      ],
      "metadata": {
        "colab": {
          "base_uri": "https://localhost:8080/"
        },
        "id": "wbPZYco4zfkg",
        "outputId": "4209df69-0c79-43b2-f072-6a3307604e25"
      },
      "execution_count": 46,
      "outputs": [
        {
          "output_type": "stream",
          "name": "stdout",
          "text": [
            "    0    1    2     3     4     5    6    7    8    9   ...   54   55   56  \\\n",
            "0  0.0  0.0  5.0  13.0   9.0   1.0  0.0  0.0  0.0  0.0  ...  0.0  0.0  0.0   \n",
            "1  0.0  0.0  0.0  12.0  13.0   5.0  0.0  0.0  0.0  0.0  ...  0.0  0.0  0.0   \n",
            "2  0.0  0.0  0.0   4.0  15.0  12.0  0.0  0.0  0.0  0.0  ...  5.0  0.0  0.0   \n",
            "3  0.0  0.0  7.0  15.0  13.0   1.0  0.0  0.0  0.0  8.0  ...  9.0  0.0  0.0   \n",
            "4  0.0  0.0  0.0   1.0  11.0   0.0  0.0  0.0  0.0  0.0  ...  0.0  0.0  0.0   \n",
            "\n",
            "    57   58    59    60    61   62   63  \n",
            "0  0.0  6.0  13.0  10.0   0.0  0.0  0.0  \n",
            "1  0.0  0.0  11.0  16.0  10.0  0.0  0.0  \n",
            "2  0.0  0.0   3.0  11.0  16.0  9.0  0.0  \n",
            "3  0.0  7.0  13.0  13.0   9.0  0.0  0.0  \n",
            "4  0.0  0.0   2.0  16.0   4.0  0.0  0.0  \n",
            "\n",
            "[5 rows x 64 columns]\n",
            "(1797, 64)\n"
          ]
        }
      ]
    },
    {
      "cell_type": "code",
      "source": [
        "df.columns\n"
      ],
      "metadata": {
        "colab": {
          "base_uri": "https://localhost:8080/"
        },
        "id": "fb7f28Imw_lc",
        "outputId": "6af109da-134c-44ab-fa0d-329bf4421e1d"
      },
      "execution_count": 47,
      "outputs": [
        {
          "output_type": "execute_result",
          "data": {
            "text/plain": [
              "RangeIndex(start=0, stop=64, step=1)"
            ]
          },
          "metadata": {},
          "execution_count": 47
        }
      ]
    },
    {
      "cell_type": "code",
      "source": [
        "df.target=pd.DataFrame(digits.target)\n",
        "#df.values"
      ],
      "metadata": {
        "id": "F3vkk68lxEj9"
      },
      "execution_count": 48,
      "outputs": []
    },
    {
      "cell_type": "code",
      "source": [
        "from sklearn.model_selection import train_test_split\n",
        "x=df\n",
        "y=df.target\n",
        "x_train,x_test,y_train,y_test= train_test_split(x,y,test_size=0.2,random_state=12)\n",
        "\n",
        "print(x)\n",
        "print(y)"
      ],
      "metadata": {
        "colab": {
          "base_uri": "https://localhost:8080/"
        },
        "id": "2f0z74m1xICg",
        "outputId": "841c4e8c-c8e2-436a-b338-e9253f6ec8c4"
      },
      "execution_count": 49,
      "outputs": [
        {
          "output_type": "stream",
          "name": "stdout",
          "text": [
            "       0    1     2     3     4     5    6    7    8    9   ...   54   55  \\\n",
            "0     0.0  0.0   5.0  13.0   9.0   1.0  0.0  0.0  0.0  0.0  ...  0.0  0.0   \n",
            "1     0.0  0.0   0.0  12.0  13.0   5.0  0.0  0.0  0.0  0.0  ...  0.0  0.0   \n",
            "2     0.0  0.0   0.0   4.0  15.0  12.0  0.0  0.0  0.0  0.0  ...  5.0  0.0   \n",
            "3     0.0  0.0   7.0  15.0  13.0   1.0  0.0  0.0  0.0  8.0  ...  9.0  0.0   \n",
            "4     0.0  0.0   0.0   1.0  11.0   0.0  0.0  0.0  0.0  0.0  ...  0.0  0.0   \n",
            "...   ...  ...   ...   ...   ...   ...  ...  ...  ...  ...  ...  ...  ...   \n",
            "1792  0.0  0.0   4.0  10.0  13.0   6.0  0.0  0.0  0.0  1.0  ...  4.0  0.0   \n",
            "1793  0.0  0.0   6.0  16.0  13.0  11.0  1.0  0.0  0.0  0.0  ...  1.0  0.0   \n",
            "1794  0.0  0.0   1.0  11.0  15.0   1.0  0.0  0.0  0.0  0.0  ...  0.0  0.0   \n",
            "1795  0.0  0.0   2.0  10.0   7.0   0.0  0.0  0.0  0.0  0.0  ...  2.0  0.0   \n",
            "1796  0.0  0.0  10.0  14.0   8.0   1.0  0.0  0.0  0.0  2.0  ...  8.0  0.0   \n",
            "\n",
            "       56   57   58    59    60    61   62   63  \n",
            "0     0.0  0.0  6.0  13.0  10.0   0.0  0.0  0.0  \n",
            "1     0.0  0.0  0.0  11.0  16.0  10.0  0.0  0.0  \n",
            "2     0.0  0.0  0.0   3.0  11.0  16.0  9.0  0.0  \n",
            "3     0.0  0.0  7.0  13.0  13.0   9.0  0.0  0.0  \n",
            "4     0.0  0.0  0.0   2.0  16.0   4.0  0.0  0.0  \n",
            "...   ...  ...  ...   ...   ...   ...  ...  ...  \n",
            "1792  0.0  0.0  2.0  14.0  15.0   9.0  0.0  0.0  \n",
            "1793  0.0  0.0  6.0  16.0  14.0   6.0  0.0  0.0  \n",
            "1794  0.0  0.0  2.0   9.0  13.0   6.0  0.0  0.0  \n",
            "1795  0.0  0.0  5.0  12.0  16.0  12.0  0.0  0.0  \n",
            "1796  0.0  1.0  8.0  12.0  14.0  12.0  1.0  0.0  \n",
            "\n",
            "[1797 rows x 64 columns]\n",
            "      0\n",
            "0     0\n",
            "1     1\n",
            "2     2\n",
            "3     3\n",
            "4     4\n",
            "...  ..\n",
            "1792  9\n",
            "1793  0\n",
            "1794  8\n",
            "1795  9\n",
            "1796  8\n",
            "\n",
            "[1797 rows x 1 columns]\n"
          ]
        }
      ]
    },
    {
      "cell_type": "code",
      "execution_count": 50,
      "metadata": {
        "colab": {
          "base_uri": "https://localhost:8080/"
        },
        "id": "dITdOrALwVpQ",
        "outputId": "2b0c9357-e6d7-4780-ac31-cb8624489b08"
      },
      "outputs": [
        {
          "output_type": "stream",
          "name": "stdout",
          "text": [
            "Model Score of Kernal(rbf) : 0.9916666666666667\n",
            "Model Score of Kernal(linear) : 0.975\n",
            "Model Score of Kernal(poly) : 0.9944444444444445\n"
          ]
        }
      ],
      "source": [
        "model1=SVC(kernel='rbf',random_state=0, probability=True)\n",
        "model1.fit(x_train,y_train)\n",
        "y_pred_1=model1.predict(x_test)\n",
        "print(\"Model Score of Kernal(rbf) :\", model1.score(x_test,y_test))\n",
        "accuracy1=accuracy_score(y_test,y_pred_1)\n",
        "\n",
        "\n",
        "model2=SVC(kernel='linear',random_state=0, probability=True)\n",
        "model2.fit(x_train,y_train)\n",
        "y_pred_2=model2.predict(x_test)\n",
        "print(\"Model Score of Kernal(linear) :\", model2.score(x_test,y_test))\n",
        "accuracy2=accuracy_score(y_test,y_pred_2)\n",
        "\n",
        "\n",
        "model3=SVC(kernel='poly',random_state=0, probability=True)\n",
        "model3.fit(x_train,y_train)\n",
        "y_pred_3=model3.predict(x_test)\n",
        "print(\"Model Score of Kernal(poly) :\", model3.score(x_test,y_test))\n",
        "accuracy3=accuracy_score(y_test,y_pred_3)\n",
        "\n"
      ]
    },
    {
      "cell_type": "code",
      "source": [
        "\n",
        "from sklearn.metrics import confusion_matrix\n",
        "cm=np.array(confusion_matrix(y_test,y_pred_3))\n",
        "cm\n",
        "\n",
        "from sklearn.metrics import mean_squared_error\n",
        "mse=mean_squared_error(y_test,y_pred_3)\n",
        "mse\n",
        "model1_C=SVC(C=3)\n",
        "model1_C.fit(x_train,y_train)\n",
        "model1_C.score(x_test,y_test)\n",
        "model2_C=SVC(C=3)\n",
        "model2_C.fit(x_train,y_train)\n",
        "model2_C.score(x_test,y_test)\n",
        "model3_C=SVC(C=3)\n",
        "model3_C.fit(x_train,y_train)\n",
        "model3_C.score(x_test,y_test)\n",
        "plt.figure(figsize=(5,5))\n"
      ],
      "metadata": {
        "colab": {
          "base_uri": "https://localhost:8080/",
          "height": 54
        },
        "id": "lNoZQBVVxnKT",
        "outputId": "84902d3f-c706-42ab-b380-c9309fbcc2bf"
      },
      "execution_count": 51,
      "outputs": [
        {
          "output_type": "execute_result",
          "data": {
            "text/plain": [
              "<Figure size 500x500 with 0 Axes>"
            ]
          },
          "metadata": {},
          "execution_count": 51
        },
        {
          "output_type": "display_data",
          "data": {
            "text/plain": [
              "<Figure size 500x500 with 0 Axes>"
            ]
          },
          "metadata": {}
        }
      ]
    },
    {
      "cell_type": "code",
      "source": [
        "\n",
        "sns.heatmap(cm, annot=True, fmt=\".2f\", linewidths=.5, square = True, cmap = 'Blues_r')\n",
        "plt.ylabel('Actual label')\n",
        "plt.xlabel('Predicted label')\n",
        "A=f'Accuracy Score :{accuracy:.2f}'\n",
        "plt.title(A)\n",
        "plt.show()"
      ],
      "metadata": {
        "colab": {
          "base_uri": "https://localhost:8080/",
          "height": 472
        },
        "id": "6rgMRJnXxp_v",
        "outputId": "ed4bd872-6edd-40f7-96d0-8824bf83a177"
      },
      "execution_count": 52,
      "outputs": [
        {
          "output_type": "display_data",
          "data": {
            "text/plain": [
              "<Figure size 640x480 with 2 Axes>"
            ],
            "image/png": "[encoded data removed]"
          },
          "metadata": {}
        }
      ]
    },
    {
      "cell_type": "code",
      "source": [
        "logreg = LogisticRegression()\n",
        "logreg.fit(x_train,y_train)\n",
        "y_pred_1=logreg.predict(x_test)\n",
        "print(\"Model Score of LogReg :\", logreg.score(x_test,y_test))\n",
        "accuracy=accuracy_score(y_test,y_pred_1)\n",
        "#print('ACCURACY is',accuracy)"
      ],
      "metadata": {
        "colab": {
          "base_uri": "https://localhost:8080/"
        },
        "id": "SCznCKFO1L_-",
        "outputId": "47e44b81-4700-4995-f819-3c6d4120a358"
      },
      "execution_count": 53,
      "outputs": [
        {
          "output_type": "stream",
          "name": "stdout",
          "text": [
            "Model Score of LogReg : 0.9694444444444444\n"
          ]
        }
      ]
    },
    {
      "cell_type": "code",
      "source": [
        "from sklearn.neighbors import KNeighborsClassifier\n",
        "knn = KNeighborsClassifier(n_neighbors=3)\n",
        "knn.fit(x_train, y_train)\n",
        "\n",
        "y_pred_2=knn.predict(x_test)\n",
        "print(\"Model Score of LogReg :\", knn.score(x_test,y_test))\n",
        "accuracy=accuracy_score(y_test,y_pred_2)\n",
        "#print('ACCURACY is',accuracy)\n"
      ],
      "metadata": {
        "colab": {
          "base_uri": "https://localhost:8080/"
        },
        "id": "v_qrYzDb3AAg",
        "outputId": "5dfc3aca-f7ce-438c-918e-e558d47a0971"
      },
      "execution_count": 54,
      "outputs": [
        {
          "output_type": "stream",
          "name": "stdout",
          "text": [
            "Model Score of LogReg : 0.9861111111111112\n"
          ]
        }
      ]
    },
    {
      "cell_type": "code",
      "source": [
        "result = ({\n",
        "    'model':['KNN','Logistic Regression','SVM rbf','SVM Linear','SVM Poly'],\n",
        "    'training score' :[knn.score(x_train,y_train),logreg.score(x_train,y_train),model1.score(x_train,y_train),model2.score(x_train,y_train),model3.score(x_train,y_train)],\n",
        "    'test score':[knn.best_score_,logreg.best_score_,model1.best_score_,model2.best_score_,model3.best_score_],\n",
        "    'average fit time':[knn.cv_results_['mean_fit_time'].mean(),logreg.cv_results_['mean_fit_time'].mean(),model1.cv_results_['mean_fit_time'].mean(),model2.cv_results_['mean_fit_time'].mean(),model3.cv_results_['mean_fit_time'].mean()]\n",
        "               })\n",
        "results_df = pd.DataFrame(result)"
      ],
      "metadata": {
        "id": "VntfUh696e5P",
        "colab": {
          "base_uri": "https://localhost:8080/",
          "height": 284
        },
        "outputId": "fbaea79c-b14e-4073-d513-be20faed862f"
      },
      "execution_count": 55,
      "outputs": [
        {
          "output_type": "error",
          "ename": "AttributeError",
          "evalue": "ignored",
          "traceback": [
            "\u001b[0;31m---------------------------------------------------------------------------\u001b[0m",
            "\u001b[0;31mAttributeError\u001b[0m                            Traceback (most recent call last)",
            "\u001b[0;32m<ipython-input-55-4acfc503e39a>\u001b[0m in \u001b[0;36m<cell line: 2>\u001b[0;34m()\u001b[0m\n\u001b[1;32m      2\u001b[0m     \u001b[0;34m'model'\u001b[0m\u001b[0;34m:\u001b[0m\u001b[0;34m[\u001b[0m\u001b[0;34m'KNN'\u001b[0m\u001b[0;34m,\u001b[0m\u001b[0;34m'Logistic Regression'\u001b[0m\u001b[0;34m,\u001b[0m\u001b[0;34m'SVM rbf'\u001b[0m\u001b[0;34m,\u001b[0m\u001b[0;34m'SVM Linear'\u001b[0m\u001b[0;34m,\u001b[0m\u001b[0;34m'SVM Poly'\u001b[0m\u001b[0;34m]\u001b[0m\u001b[0;34m,\u001b[0m\u001b[0;34m\u001b[0m\u001b[0;34m\u001b[0m\u001b[0m\n\u001b[1;32m      3\u001b[0m     \u001b[0;34m'training score'\u001b[0m \u001b[0;34m:\u001b[0m\u001b[0;34m[\u001b[0m\u001b[0mknn\u001b[0m\u001b[0;34m.\u001b[0m\u001b[0mscore\u001b[0m\u001b[0;34m(\u001b[0m\u001b[0mx_train\u001b[0m\u001b[0;34m,\u001b[0m\u001b[0my_train\u001b[0m\u001b[0;34m)\u001b[0m\u001b[0;34m,\u001b[0m\u001b[0mlogreg\u001b[0m\u001b[0;34m.\u001b[0m\u001b[0mscore\u001b[0m\u001b[0;34m(\u001b[0m\u001b[0mx_train\u001b[0m\u001b[0;34m,\u001b[0m\u001b[0my_train\u001b[0m\u001b[0;34m)\u001b[0m\u001b[0;34m,\u001b[0m\u001b[0mmodel1\u001b[0m\u001b[0;34m.\u001b[0m\u001b[0mscore\u001b[0m\u001b[0;34m(\u001b[0m\u001b[0mx_train\u001b[0m\u001b[0;34m,\u001b[0m\u001b[0my_train\u001b[0m\u001b[0;34m)\u001b[0m\u001b[0;34m,\u001b[0m\u001b[0mmodel2\u001b[0m\u001b[0;34m.\u001b[0m\u001b[0mscore\u001b[0m\u001b[0;34m(\u001b[0m\u001b[0mx_train\u001b[0m\u001b[0;34m,\u001b[0m\u001b[0my_train\u001b[0m\u001b[0;34m)\u001b[0m\u001b[0;34m,\u001b[0m\u001b[0mmodel3\u001b[0m\u001b[0;34m.\u001b[0m\u001b[0mscore\u001b[0m\u001b[0;34m(\u001b[0m\u001b[0mx_train\u001b[0m\u001b[0;34m,\u001b[0m\u001b[0my_train\u001b[0m\u001b[0;34m)\u001b[0m\u001b[0;34m]\u001b[0m\u001b[0;34m,\u001b[0m\u001b[0;34m\u001b[0m\u001b[0;34m\u001b[0m\u001b[0m\n\u001b[0;32m----> 4\u001b[0;31m     \u001b[0;34m'test score'\u001b[0m\u001b[0;34m:\u001b[0m\u001b[0;34m[\u001b[0m\u001b[0mknn\u001b[0m\u001b[0;34m.\u001b[0m\u001b[0mbest_score_\u001b[0m\u001b[0;34m,\u001b[0m\u001b[0mlogreg\u001b[0m\u001b[0;34m.\u001b[0m\u001b[0mbest_score_\u001b[0m\u001b[0;34m,\u001b[0m\u001b[0mmodel1\u001b[0m\u001b[0;34m.\u001b[0m\u001b[0mbest_score_\u001b[0m\u001b[0;34m,\u001b[0m\u001b[0mmodel2\u001b[0m\u001b[0;34m.\u001b[0m\u001b[0mbest_score_\u001b[0m\u001b[0;34m,\u001b[0m\u001b[0mmodel3\u001b[0m\u001b[0;34m.\u001b[0m\u001b[0mbest_score_\u001b[0m\u001b[0;34m]\u001b[0m\u001b[0;34m,\u001b[0m\u001b[0;34m\u001b[0m\u001b[0;34m\u001b[0m\u001b[0m\n\u001b[0m\u001b[1;32m      5\u001b[0m     \u001b[0;34m'average fit time'\u001b[0m\u001b[0;34m:\u001b[0m\u001b[0;34m[\u001b[0m\u001b[0mknn\u001b[0m\u001b[0;34m.\u001b[0m\u001b[0mcv_results_\u001b[0m\u001b[0;34m[\u001b[0m\u001b[0;34m'mean_fit_time'\u001b[0m\u001b[0;34m]\u001b[0m\u001b[0;34m.\u001b[0m\u001b[0mmean\u001b[0m\u001b[0;34m(\u001b[0m\u001b[0;34m)\u001b[0m\u001b[0;34m,\u001b[0m\u001b[0mlogreg\u001b[0m\u001b[0;34m.\u001b[0m\u001b[0mcv_results_\u001b[0m\u001b[0;34m[\u001b[0m\u001b[0;34m'mean_fit_time'\u001b[0m\u001b[0;34m]\u001b[0m\u001b[0;34m.\u001b[0m\u001b[0mmean\u001b[0m\u001b[0;34m(\u001b[0m\u001b[0;34m)\u001b[0m\u001b[0;34m,\u001b[0m\u001b[0mmodel1\u001b[0m\u001b[0;34m.\u001b[0m\u001b[0mcv_results_\u001b[0m\u001b[0;34m[\u001b[0m\u001b[0;34m'mean_fit_time'\u001b[0m\u001b[0;34m]\u001b[0m\u001b[0;34m.\u001b[0m\u001b[0mmean\u001b[0m\u001b[0;34m(\u001b[0m\u001b[0;34m)\u001b[0m\u001b[0;34m,\u001b[0m\u001b[0mmodel2\u001b[0m\u001b[0;34m.\u001b[0m\u001b[0mcv_results_\u001b[0m\u001b[0;34m[\u001b[0m\u001b[0;34m'mean_fit_time'\u001b[0m\u001b[0;34m]\u001b[0m\u001b[0;34m.\u001b[0m\u001b[0mmean\u001b[0m\u001b[0;34m(\u001b[0m\u001b[0;34m)\u001b[0m\u001b[0;34m,\u001b[0m\u001b[0mmodel3\u001b[0m\u001b[0;34m.\u001b[0m\u001b[0mcv_results_\u001b[0m\u001b[0;34m[\u001b[0m\u001b[0;34m'mean_fit_time'\u001b[0m\u001b[0;34m]\u001b[0m\u001b[0;34m.\u001b[0m\u001b[0mmean\u001b[0m\u001b[0;34m(\u001b[0m\u001b[0;34m)\u001b[0m\u001b[0;34m]\u001b[0m\u001b[0;34m\u001b[0m\u001b[0;34m\u001b[0m\u001b[0m\n\u001b[1;32m      6\u001b[0m                })\n",
            "\u001b[0;31mAttributeError\u001b[0m: 'KNeighborsClassifier' object has no attribute 'best_score_'"
          ]
        }
      ]
    },
    {
      "cell_type": "code",
      "source": [
        "from functools import reduce\n",
        "\n",
        "def _get_model_name(model):\n",
        "    \"\"\"\n",
        "            Returns a string with the name of a sklearn model\n",
        "                model: Sklearn stimator class\n",
        "    \"\"\"\n",
        "    if isinstance(model, Pipeline):\n",
        "        estimator = model.steps[-1][1]\n",
        "        name = \"Pipeline_\" + str(estimator)[:str(estimator).find(\"(\")]\n",
        "    else:\n",
        "        name = str(model)[:str(model).find(\"(\")]\n",
        "    return name"
      ],
      "metadata": {
        "id": "eImaPFAqtrjI"
      },
      "execution_count": 56,
      "outputs": []
    },
    {
      "cell_type": "code",
      "source": [
        "def plot_cv_score(X, y, models_list, cv = 5, scoring_list = None, refit = True, return_scores = False):\n",
        "    \"\"\"\n",
        "            X: numpy_array/pandas dataframe n_rows, m_features\n",
        "            y: numpy_array/pandas dataframe n_rows\n",
        "            Plots min, max and avg kfold crosval_score for a list of models\n",
        "    \"\"\"\n",
        "\n",
        "    names, mean_score = list(), list()\n",
        "    ldf = list()\n",
        "    mnames = list()\n",
        "\n",
        "    for i, model in enumerate(models_list):\n",
        "        name = _get_model_name(model)\n",
        "\n",
        "        if refit:\n",
        "            model.fit(X, y)\n",
        "\n",
        "        for metric in score_list:\n",
        "\n",
        "            score = cross_val_score(model, X, y, cv = cv, scoring = metric, n_jobs= -1)\n",
        "            mean_score.append(np.mean(score))\n",
        "\n",
        "        tmp = pd.DataFrame({name: mean_score}, index = score_list)\n",
        "        ldf.append(tmp)\n",
        "        mean_score = list()\n",
        "\n",
        "    frame_scores = reduce(lambda x,y: pd.merge(x,y, left_index = True, right_index = True), ldf).T\n",
        "    fig, ax  = plt.subplots(1,1, figsize = (10,5))\n",
        "    frame_scores.plot.bar(ax = ax, cmap = 'RdYlBu', edgecolor = \"black\")\n",
        "    ax.legend(loc = 'best')\n",
        "    ax.set_xlabel(\"Score\")\n",
        "    ax.set_title(\"Cross Validation Model Comparison\")\n",
        "    plt.show()\n",
        "    if return_scores:\n",
        "        return frame_scores"
      ],
      "metadata": {
        "id": "JKclFKNmtt7A"
      },
      "execution_count": 57,
      "outputs": []
    },
    {
      "cell_type": "code",
      "source": [
        "models_list =[LogisticRegression(random_state = 42),\n",
        "              SVC(C=1, gamma=0.0001, kernel='rbf',probability= True),\n",
        "              DecisionTreeClassifier(random_state = 42)]\n",
        "\n",
        "score_list = [\"roc_auc\", \"accuracy\", \"f1\", \"precision\", \"recall\"]\n",
        "\n",
        "t = plot_cv_score(X = x_train, y = y_train, models_list = models_list, cv = 5, scoring_list = score_list, refit = True)\n"
      ],
      "metadata": {
        "colab": {
          "base_uri": "https://localhost:8080/",
          "height": 625
        },
        "id": "3vvW1NELtwZL",
        "outputId": "4b9e6d91-02f2-4fcf-f4e9-172f96a02722"
      },
      "execution_count": 60,
      "outputs": [
        {
          "output_type": "display_data",
          "data": {
            "text/plain": [
              "<Figure size 1000x500 with 1 Axes>"
            ],
            "image/png": "[encoded data removed]"
          },
          "metadata": {}
        }
      ]
    }
  ]
}